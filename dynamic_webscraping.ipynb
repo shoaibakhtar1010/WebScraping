{
 "cells": [
  {
   "cell_type": "code",
   "execution_count": 64,
   "metadata": {},
   "outputs": [],
   "source": [
    "import requests\n",
    "import selenium"
   ]
  },
  {
   "cell_type": "code",
   "execution_count": 65,
   "metadata": {},
   "outputs": [],
   "source": [
    "url=\"https://finance.yahoo.com/chart/AAPL/#eyJpbnRlcnZhbCI6ImRheSIsInBlcmlvZGljaXR5IjoxLCJ0aW1lVW5pdCI6bnVsbCwiY2FuZGxlV2lkdGgiOjgsImZsaXBwZWQiOmZhbHNlLCJ2b2x1bWVVbmRlcmxheSI6dHJ1ZSwiYWRqIjp0cnVlLCJjcm9zc2hhaXIiOnRydWUsImNoYXJ0VHlwZSI6ImxpbmUiLCJleHRlbmRlZCI6ZmFsc2UsIm1hcmtldFNlc3Npb25zIjp7fSwiYWdncmVnYXRpb25UeXBlIjoib2hsYyIsImNoYXJ0U2NhbGUiOiJsaW5lYXIiLCJwYW5lbHMiOnsiY2hhcnQiOnsicGVyY2VudCI6MSwiZGlzcGxheSI6IkFBUEwiLCJjaGFydE5hbWUiOiJjaGFydCIsImluZGV4IjowLCJ5QXhpcyI6eyJuYW1lIjoiY2hhcnQiLCJwb3NpdGlvbiI6bnVsbH0sInlheGlzTEhTIjpbXSwieWF4aXNSSFMiOlsiY2hhcnQiLCLigIx2b2wgdW5kcuKAjCJdfX0sInNldFNwYW4iOnt9LCJsaW5lV2lkdGgiOjIsInN0cmlwZWRCYWNrZ3JvdW5kIjp0cnVlLCJldmVudHMiOnRydWUsImNvbG9yIjoiIzAwODFmMiIsInN0cmlwZWRCYWNrZ3JvdWQiOnRydWUsImV2ZW50TWFwIjp7ImNvcnBvcmF0ZSI6eyJkaXZzIjp0cnVlLCJzcGxpdHMiOnRydWV9LCJzaWdEZXYiOnt9fSwic3ltYm9scyI6W3sic3ltYm9sIjoiQUFQTCIsInN5bWJvbE9iamVjdCI6eyJzeW1ib2wiOiJBQVBMIiwicXVvdGVUeXBlIjoiRVFVSVRZIiwiZXhjaGFuZ2VUaW1lWm9uZSI6IkFtZXJpY2EvTmV3X1lvcmsifSwicGVyaW9kaWNpdHkiOjEsImludGVydmFsIjoiZGF5IiwidGltZVVuaXQiOm51bGwsInNldFNwYW4iOnt9fV0sInN0dWRpZXMiOnsi4oCMdm9sIHVuZHLigIwiOnsidHlwZSI6InZvbCB1bmRyIiwiaW5wdXRzIjp7ImlkIjoi4oCMdm9sIHVuZHLigIwiLCJkaXNwbGF5Ijoi4oCMdm9sIHVuZHLigIwifSwib3V0cHV0cyI6eyJVcCBWb2x1bWUiOiIjMDBiMDYxIiwiRG93biBWb2x1bWUiOiIjZmYzMzNhIn0sInBhbmVsIjoiY2hhcnQiLCJwYXJhbWV0ZXJzIjp7IndpZHRoRmFjdG9yIjowLjQ1LCJjaGFydE5hbWUiOiJjaGFydCIsInBhbmVsTmFtZSI6ImNoYXJ0In19fX0-\""
   ]
  },
  {
   "cell_type": "code",
   "execution_count": 66,
   "metadata": {},
   "outputs": [],
   "source": [
    "r=requests.get(url)\n",
    "t=r.text"
   ]
  },
  {
   "cell_type": "code",
   "execution_count": 67,
   "metadata": {},
   "outputs": [],
   "source": [
    "from selenium import webdriver\n"
   ]
  },
  {
   "cell_type": "code",
   "execution_count": 68,
   "metadata": {},
   "outputs": [
    {
     "name": "stderr",
     "output_type": "stream",
     "text": [
      "<ipython-input-68-238b2109922c>:1: DeprecationWarning: executable_path has been deprecated, please pass in a Service object\n",
      "  driver=webdriver.Chrome(executable_path=\"./chromedriver.exe\")\n"
     ]
    }
   ],
   "source": [
    "driver=webdriver.Chrome(executable_path=\"./chromedriver.exe\")"
   ]
  },
  {
   "cell_type": "code",
   "execution_count": 69,
   "metadata": {},
   "outputs": [],
   "source": [
    "driver.get(url)\n",
    "ps=driver.page_source"
   ]
  },
  {
   "cell_type": "code",
   "execution_count": 70,
   "metadata": {},
   "outputs": [],
   "source": [
    "xpath='//*[@id=\"data-util-col\"]/section[2]/table/tbody/tr[1]'\n",
    "\n"
   ]
  },
  {
   "cell_type": "code",
   "execution_count": 71,
   "metadata": {},
   "outputs": [
    {
     "name": "stdout",
     "output_type": "stream",
     "text": [
      "BTC-USD -\n"
     ]
    }
   ],
   "source": [
    "from selenium.webdriver.common.by import By\n",
    "elem=driver.find_elements(By.XPATH,xpath)\n",
    "print(elem[0].text)"
   ]
  },
  {
   "cell_type": "code",
   "execution_count": 72,
   "metadata": {},
   "outputs": [
    {
     "name": "stdout",
     "output_type": "stream",
     "text": [
      "['BTC-USD -']\n",
      "['ETH-USD -']\n",
      "['USDT-USD -']\n",
      "['USDC-USD -']\n",
      "['BNB-USD -']\n"
     ]
    }
   ],
   "source": [
    "for i in range(1,6):\n",
    "    xpath=f'//*[@id=\"data-util-col\"]/section[2]/table/tbody/tr[{i}]'\n",
    "    elem=driver.find_elements(By.XPATH,xpath)\n",
    "    print(elem[0].text.split(\"\\n\"))\n",
    "    \n",
    "    "
   ]
  },
  {
   "cell_type": "markdown",
   "metadata": {},
   "source": [
    "## extrracting hyperelink value"
   ]
  },
  {
   "cell_type": "code",
   "execution_count": 73,
   "metadata": {},
   "outputs": [
    {
     "name": "stdout",
     "output_type": "stream",
     "text": [
      "BTC-USD\n"
     ]
    }
   ],
   "source": [
    "xpath=f'//*[@id=\"data-util-col\"]/section[2]/table/tbody/tr[1]/td/a'\n",
    "elem=driver.find_elements(By.XPATH,xpath)\n",
    "print(elem[0].text)\n",
    "    "
   ]
  },
  {
   "cell_type": "code",
   "execution_count": 74,
   "metadata": {},
   "outputs": [
    {
     "name": "stdout",
     "output_type": "stream",
     "text": [
      "https://finance.yahoo.com/chart/BTC-USD?p=BTC-USD\n"
     ]
    }
   ],
   "source": [
    "xpath=f'//*[@id=\"data-util-col\"]/section[2]/table/tbody/tr[1]/td/a'\n",
    "elem=driver.find_elements(By.XPATH,xpath)\n",
    "print(elem[0].get_attribute(\"href\"))"
   ]
  },
  {
   "cell_type": "markdown",
   "metadata": {},
   "source": [
    "# Dealing with website loading time"
   ]
  },
  {
   "cell_type": "code",
   "execution_count": 75,
   "metadata": {},
   "outputs": [],
   "source": [
    "from selenium.webdriver.support.ui import WebDriverWait\n",
    "from selenium.webdriver.support import expected_conditions as ec"
   ]
  },
  {
   "cell_type": "code",
   "execution_count": 78,
   "metadata": {},
   "outputs": [
    {
     "name": "stdout",
     "output_type": "stream",
     "text": [
      "BTC-USD\n",
      "23,435.07\n",
      "-335.05(-1.41%)\n"
     ]
    }
   ],
   "source": [
    "loadtime=10\n",
    "wait=WebDriverWait(driver,loadtime)\n",
    "xpath='//*[@id=\"data-util-col\"]/section[2]/table/tbody/tr[1]'\n",
    "load_xpath='//*[@id=\"data-util-col\"]/section[2]/table/tbody/tr[1]/td[2]/p'\n",
    "try:\n",
    "    wait.until(ec.visibility_of_element_located((By.XPATH,xpath)))\n",
    "    elem=driver.find_elements(By.XPATH,xpath)\n",
    "    print(elem[0].text)\n",
    "except Exception as e:\n",
    "    print(e)\n",
    "    print(\"value error\")\n",
    "    \n",
    "# for i in range(1,6):\n",
    "#     xpath=f'//*[@id=\"data-util-col\"]/section[2]/table/tbody/tr[{i}]'\n",
    "#     elem=driver.find_elements(By.XPATH,xpath)\n",
    "#     print(elem[0].text.split(\"\\n\"))"
   ]
  },
  {
   "cell_type": "code",
   "execution_count": 79,
   "metadata": {},
   "outputs": [],
   "source": [
    "driver.close()"
   ]
  },
  {
   "cell_type": "markdown",
   "metadata": {},
   "source": [
    "## Headless driver"
   ]
  },
  {
   "cell_type": "code",
   "execution_count": 80,
   "metadata": {},
   "outputs": [
    {
     "name": "stderr",
     "output_type": "stream",
     "text": [
      "<ipython-input-80-0b14a100c445>:4: DeprecationWarning: executable_path has been deprecated, please pass in a Service object\n",
      "  driver=webdriver.Chrome(executable_path=\"./chromedriver.exe\",options=options)\n"
     ]
    },
    {
     "name": "stdout",
     "output_type": "stream",
     "text": [
      "BTC-USD\n",
      "23,419.18\n",
      "-428.21-1.80%\n"
     ]
    }
   ],
   "source": [
    "loadtime=10\n",
    "options= webdriver.ChromeOptions()\n",
    "options.add_argument(\"headless\")\n",
    "driver=webdriver.Chrome(executable_path=\"./chromedriver.exe\",options=options)\n",
    "driver.get(url)\n",
    "wait=WebDriverWait(driver,loadtime)\n",
    "xpath='//*[@id=\"data-util-col\"]/section[2]/table/tbody/tr[1]'\n",
    "load_xpath='//*[@id=\"data-util-col\"]/section[2]/table/tbody/tr[1]/td[2]/p'\n",
    "try:\n",
    "    wait.until(ec.visibility_of_element_located((By.XPATH,xpath)))\n",
    "    elem=driver.find_elements(By.XPATH,xpath)\n",
    "    print(elem[0].text)\n",
    "except Exception as e:\n",
    "    print(e)\n",
    "    print(\"value error\")\n",
    "    \n",
    "# for i in range(1,6):\n",
    "#     xpath=f'//*[@id=\"data-util-col\"]/section[2]/table/tbody/tr[{i}]'\n",
    "#     elem=driver.find_elements(By.XPATH,xpath)\n",
    "#     print(elem[0].text.split(\"\\n\"))"
   ]
  },
  {
   "cell_type": "code",
   "execution_count": null,
   "metadata": {},
   "outputs": [],
   "source": []
  }
 ],
 "metadata": {
  "kernelspec": {
   "display_name": "Python 3",
   "language": "python",
   "name": "python3"
  },
  "language_info": {
   "codemirror_mode": {
    "name": "ipython",
    "version": 3
   },
   "file_extension": ".py",
   "mimetype": "text/x-python",
   "name": "python",
   "nbconvert_exporter": "python",
   "pygments_lexer": "ipython3",
   "version": "3.8.5"
  }
 },
 "nbformat": 4,
 "nbformat_minor": 4
}
