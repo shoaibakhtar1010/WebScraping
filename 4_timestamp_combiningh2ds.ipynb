{
  "nbformat": 4,
  "nbformat_minor": 0,
  "metadata": {
    "colab": {
      "name": "4_timestamp_combiningh2ds.ipynb",
      "provenance": [],
      "authorship_tag": "ABX9TyNwfL3DVEh9R5+eGT6Y8Adw",
      "include_colab_link": true
    },
    "kernelspec": {
      "name": "python3",
      "display_name": "Python 3"
    },
    "language_info": {
      "name": "python"
    }
  },
  "cells": [
    {
      "cell_type": "markdown",
      "metadata": {
        "id": "view-in-github",
        "colab_type": "text"
      },
      "source": [
        "<a href=\"https://colab.research.google.com/github/shoaibakhtar1010/WebScraping/blob/main/4_timestamp_combiningh2ds.ipynb\" target=\"_parent\"><img src=\"https://colab.research.google.com/assets/colab-badge.svg\" alt=\"Open In Colab\"/></a>"
      ]
    },
    {
      "cell_type": "markdown",
      "source": [
        "`"
      ],
      "metadata": {
        "id": "aeIIYMwvlksj"
      }
    },
    {
      "cell_type": "code",
      "execution_count": null,
      "metadata": {
        "id": "95AYqwRAkx2D"
      },
      "outputs": [],
      "source": [
        "\n",
        "import requests\n",
        "import pandas as pd\n",
        "\n",
        "wikiURL = \"https://en.wikipedia.org/wiki/List_of_S%26P_500_companies\"\n",
        "\n",
        "wikiResponse = requests.get(wikiURL)\n",
        "\n",
        "data = {\"Company\":[]}\n",
        "\n",
        "wikiFirstParse = wikiResponse.text.split(\"0001555280\")[0]\n",
        "wikiDataTable = wikiFirstParse.split(\"Component Stocks\")[3]\n",
        "hyperLinkSplitWiki = wikiDataTable.split(\"href=\")\n",
        "start = 4\n",
        "for position in range(len(hyperLinkSplitWiki)):\n",
        "    if position > start:\n",
        "        if \"nyse\" in hyperLinkSplitWiki[position]:\n",
        "            if \"quote\" in hyperLinkSplitWiki[position]:\n",
        "                tempData = hyperLinkSplitWiki[position].split('\">')[1].split(\"</\")[0]\n",
        "                data[\"Company\"].append(tempData)\n",
        "        elif \"nasdaq\" in hyperLinkSplitWiki[position]:\n",
        "            if \"symbol\" in hyperLinkSplitWiki[position]:\n",
        "                tempData = hyperLinkSplitWiki[position].split('\">')[1].split(\"</\")[0]\n",
        "                data[\"Company\"].append(tempData)\n",
        "\n",
        "#5->9->13\n",
        "Indicators = {\"Previous Close\":[],\n",
        "            \"Open\":[],\n",
        "            \"Bid\":[],\n",
        "            \"Ask\":[],\n",
        "            \"Day&#x27;s Range\":[],\n",
        "            \"52 Week Range\":[],\n",
        "            \"Volume\":[],\n",
        "            \"Avg. Volume\":[],\n",
        "            \"Market Cap\":[],\n",
        "            \"Beta\":[],\n",
        "            \"PE Ratio (TTM)\":[],\n",
        "            \"EPS (TTM)\":[],\n",
        "            \"Earnings Date\":[],\n",
        "            \"Dividend &amp; Yield\":[],\n",
        "            \"Ex-Dividend Date\":[],\n",
        "            \"1y Target Est\":[]}\n",
        "\n",
        "\n",
        "\n",
        "url = \"http://finance.yahoo.com/quote/AAPL?p=AAPL\"\n",
        "#print(htmlText)\n",
        "counter = 0 \n",
        "for tickerSymbol in data[\"Company\"]:\n",
        "    url = (\"http://finance.yahoo.com/quote/\"+tickerSymbol\n",
        "       +\"?p=\"+tickerSymbol)\n",
        "    response = requests.get(url)\n",
        "    htmlText = response.text\n",
        "    for indicator in Indicators:\n",
        "        try:\n",
        "            splitList = htmlText.split(indicator)\n",
        "            afterFirstSplit = splitList[1].split(\"\\\">\")[1]\n",
        "            afterSecondSplit = afterFirstSplit.split(\"</td>\")\n",
        "            dataValue = afterSecondSplit[0]\n",
        "            Indicators[indicator].append(dataValue)\n",
        "        except:\n",
        "            Indicators[indicator].append(\"N/A\")\n",
        "\n",
        "\n",
        "data.update(Indicators)\n",
        "\n",
        "df = pd.DataFrame(data)\n",
        "\n",
        "print(data)\n",
        "print(len(data['Ex-Dividend Date']))\n",
        "\n",
        "\n"
      ]
    },
    {
      "cell_type": "code",
      "source": [
        ""
      ],
      "metadata": {
        "id": "dKaHeTkVun-Z"
      },
      "execution_count": null,
      "outputs": []
    }
  ]
}