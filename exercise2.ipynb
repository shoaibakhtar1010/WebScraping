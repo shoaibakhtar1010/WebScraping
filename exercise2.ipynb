{
  "nbformat": 4,
  "nbformat_minor": 0,
  "metadata": {
    "colab": {
      "name": "exercise2.ipynb",
      "provenance": [],
      "authorship_tag": "ABX9TyNLgpbGJy8IOCec5jclSrPW",
      "include_colab_link": true
    },
    "kernelspec": {
      "name": "python3",
      "display_name": "Python 3"
    },
    "language_info": {
      "name": "python"
    }
  },
  "cells": [
    {
      "cell_type": "markdown",
      "metadata": {
        "id": "view-in-github",
        "colab_type": "text"
      },
      "source": [
        "<a href=\"https://colab.research.google.com/github/shoaibakhtar1010/WebScraping/blob/main/exercise2.ipynb\" target=\"_parent\"><img src=\"https://colab.research.google.com/assets/colab-badge.svg\" alt=\"Open In Colab\"/></a>"
      ]
    },
    {
      "cell_type": "markdown",
      "source": [
        "## Scraping a website that uses AJAX to generate content\n",
        "\n",
        "Try to get the names that pop up under the HTML labeled section (http://testing-ground.scraping.pro/ajax, website URL provided in starting file), they are loaded with AJAX, so you can't just get them from the static HTML (although you're encouraged to try it with requests first and see what comes out)"
      ],
      "metadata": {
        "id": "0z85utyXaT6Z"
      }
    },
    {
      "cell_type": "code",
      "execution_count": null,
      "metadata": {
        "id": "elEki911aQKm"
      },
      "outputs": [],
      "source": [
        "url = \"http://testing-ground.scraping.pro/ajax\"\n",
        "from selenium import webdriver\n",
        "\n",
        "def findXPath(element,target,path):\n",
        "    if target in element.get_attribute('textContent') and element.tag_name == \"ul\":\n",
        "        return path\n",
        "    newElements = element.find_elements_by_xpath(\"./*\")\n",
        "    for newElement in newElements:\n",
        "#        print(path+ \"/\"+newElement.tag_name)\n",
        "        final = findXPath(newElement,target,path + \"/\"+newElement.tag_name)\n",
        "        if final != \"\":\n",
        "            return final\n",
        "    return \"\"\n",
        "browser = webdriver.PhantomJS(executable_path='/usr/local/bin/phantomjs')\n",
        "browser.get(url)\n",
        "#print(browser.page_source)\n",
        "elements = browser.find_element_by_xpath(\"html\")\n",
        "finalXPath = findXPath(elements,\"Andrew\",\"html\")\n",
        "print(\"Final xPath:\",finalXPath)\n",
        "element = browser.find_element_by_xpath(finalXPath)\n",
        "print(\"Names:\\n\",element.text) #Fortunately here, we don't need to use get_attribute(\"textContent\")\n",
        "                                 #But you can try it out anyway to see the difference in formatting\n",
        "browser.quit()"
      ]
    }
  ]
}