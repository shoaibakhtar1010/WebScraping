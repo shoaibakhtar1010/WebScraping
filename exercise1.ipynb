{
  "nbformat": 4,
  "nbformat_minor": 0,
  "metadata": {
    "colab": {
      "name": "exercise1.ipynb",
      "provenance": [],
      "authorship_tag": "ABX9TyPj7X5jkFShy5MgaoZIKLUD",
      "include_colab_link": true
    },
    "kernelspec": {
      "name": "python3",
      "display_name": "Python 3"
    },
    "language_info": {
      "name": "python"
    }
  },
  "cells": [
    {
      "cell_type": "markdown",
      "metadata": {
        "id": "view-in-github",
        "colab_type": "text"
      },
      "source": [
        "<a href=\"https://colab.research.google.com/github/shoaibakhtar1010/WebScraping/blob/main/exercise1.ipynb\" target=\"_parent\"><img src=\"https://colab.research.google.com/assets/colab-badge.svg\" alt=\"Open In Colab\"/></a>"
      ]
    },
    {
      "cell_type": "markdown",
      "source": [
        "## Your own web scrap\n",
        "The website http://webscraper.io/test-sites/tables has test tables that you can use to try some scraping techniques. Try to reduce the website so that you can extract all the #'s, First Names, Last Names, and Usernames and put them into a neat format (such as a pandas DataFrame). You can also run everything in your local coding environment. The solution is written in Python 3.5. Note, the web coder here may be missing some modules."
      ],
      "metadata": {
        "id": "707Kd8Yiaxh4"
      }
    },
    {
      "cell_type": "code",
      "execution_count": null,
      "metadata": {
        "id": "jADW5qbQart8"
      },
      "outputs": [],
      "source": [
        "import requests\n",
        "import pandas as pd\n",
        "url = \"http://webscraper.io/test-sites/tables\"\n",
        "\n",
        "response = requests.get(url)\n",
        "#print(response.text)#Always visualizing our progress\n",
        "#Each value in the table is surrounded by <tr> </tr>\n",
        "tables = response.text.split(\"<tr>\")\n",
        "counter = 0\n",
        "\n",
        "for table in tables:\n",
        "    if \"Mark\" in table:#Seeing where data tarts\n",
        "        print(\"Mark:\",counter)\n",
        "    if \"@twitter\" in table:#Seeing where data ends\n",
        "        print(\"Twitter:\",counter)\n",
        "    counter+=1\n",
        "    \n",
        "tables = tables[2:19] #Reducing our data down to what's interesting\n",
        "#print(tables)#Always visualizing our progress\n",
        "reducedTables = []\n",
        "for table in tables:\n",
        "    if \"<td>\" in table:\n",
        "        reducedTables.append(table)\n",
        "#print(reducedTables)#Always visualizing our progress\n",
        "\n",
        "doubleReducedTables = []\n",
        "for table in reducedTables:\n",
        "    temp = table.split(\"<td>\")\n",
        "    for tableTemp in temp:\n",
        "        if \"</td>\" in tableTemp:\n",
        "            #Here we make the first part of the string be the #, name, last name, username\n",
        "            doubleReducedTables.append(tableTemp) \n",
        "#print(doubleReducedTables)#Always visualizing our progress\n",
        "#To store out data in a neat fashion\n",
        "data = {\"#\":[],\n",
        "        \"First Name\":[],\n",
        "        \"Last Name\":[],\n",
        "        \"Username\":[]}\n",
        "for i in range(len(doubleReducedTables)):\n",
        "    table = doubleReducedTables[i]\n",
        "    t = i%4 #Cycling over 4 different values\n",
        "    value = table.split(\"</td>\")[0]\n",
        "    #Our data is always before the </td> value, so the first element after the split\n",
        "    if value != \"-\":#We can take out the empty line\n",
        "        if t == 0:\n",
        "            data[\"#\"].append(value)\n",
        "        elif t == 1:\n",
        "            data[\"First Name\"].append(value)\n",
        "        elif t == 2:\n",
        "            data[\"Last Name\"].append(value)\n",
        "        elif t == 3:\n",
        "            data[\"Username\"].append(value)\n",
        "    \n",
        "df = pd.DataFrame(data)\n",
        "print(df)"
      ]
    }
  ]
}