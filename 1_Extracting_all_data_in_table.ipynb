{
  "nbformat": 4,
  "nbformat_minor": 0,
  "metadata": {
    "colab": {
      "name": "1_Extracting_all_data_in_table.ipynb",
      "provenance": [],
      "authorship_tag": "ABX9TyPdqbe0Uhx5S0G+eWoTAK15",
      "include_colab_link": true
    },
    "kernelspec": {
      "name": "python3",
      "display_name": "Python 3"
    },
    "language_info": {
      "name": "python"
    }
  },
  "cells": [
    {
      "cell_type": "markdown",
      "metadata": {
        "id": "view-in-github",
        "colab_type": "text"
      },
      "source": [
        "<a href=\"https://colab.research.google.com/github/shoaibakhtar1010/WebScraping/blob/main/1_Extracting_all_data_in_table.ipynb\" target=\"_parent\"><img src=\"https://colab.research.google.com/assets/colab-badge.svg\" alt=\"Open In Colab\"/></a>"
      ]
    },
    {
      "cell_type": "markdown",
      "source": [
        "# Web scraping with python"
      ],
      "metadata": {
        "id": "yAb9znO7YIw6"
      }
    },
    {
      "cell_type": "code",
      "source": [
        "import requests\n",
        "from bs4 import BeautifulSoup"
      ],
      "metadata": {
        "id": "yToMq5IHYQps"
      },
      "execution_count": 1,
      "outputs": []
    },
    {
      "cell_type": "code",
      "source": [
        "url=\"https://finance.yahoo.com/quote/AAPL?p=AAPL\""
      ],
      "metadata": {
        "id": "BTTg9YV6Yet-"
      },
      "execution_count": 2,
      "outputs": []
    },
    {
      "cell_type": "code",
      "source": [
        "response=requests.get(url)"
      ],
      "metadata": {
        "id": "zQsJgbcMY0YC"
      },
      "execution_count": 3,
      "outputs": []
    },
    {
      "cell_type": "code",
      "source": [
        "text=response.text"
      ],
      "metadata": {
        "id": "vjf2uFBJY9iC"
      },
      "execution_count": 5,
      "outputs": []
    },
    {
      "cell_type": "code",
      "source": [
        "soup=BeautifulSoup(text,features=\"html.parser\")"
      ],
      "metadata": {
        "id": "nka9tvqoZIuS"
      },
      "execution_count": 6,
      "outputs": []
    },
    {
      "cell_type": "code",
      "source": [
        "trs=soup.find_all(\"td\",class_=\"C($primaryColor) W(51%)\")"
      ],
      "metadata": {
        "id": "DWOgg5iHZe3Z"
      },
      "execution_count": 8,
      "outputs": []
    },
    {
      "cell_type": "code",
      "source": [
        "print(trs)"
      ],
      "metadata": {
        "colab": {
          "base_uri": "https://localhost:8080/"
        },
        "id": "xNmReyEJaF2o",
        "outputId": "34dfea63-4583-4de7-e2cd-bcbec50a68bb"
      },
      "execution_count": 9,
      "outputs": [
        {
          "output_type": "stream",
          "name": "stdout",
          "text": [
            "[<td class=\"C($primaryColor) W(51%)\"><span>Previous Close</span></td>, <td class=\"C($primaryColor) W(51%)\"><span>Open</span></td>, <td class=\"C($primaryColor) W(51%)\"><span>Bid</span></td>, <td class=\"C($primaryColor) W(51%)\"><span>Ask</span></td>, <td class=\"C($primaryColor) W(51%)\"><span>Day's Range</span></td>, <td class=\"C($primaryColor) W(51%)\"><span>52 Week Range</span></td>, <td class=\"C($primaryColor) W(51%)\"><span>Volume</span></td>, <td class=\"C($primaryColor) W(51%)\"><span>Avg. Volume</span></td>, <td class=\"C($primaryColor) W(51%)\"><span>Market Cap</span></td>, <td class=\"C($primaryColor) W(51%)\"><span>Beta (5Y Monthly)</span></td>, <td class=\"C($primaryColor) W(51%)\"><span>PE Ratio (TTM)</span></td>, <td class=\"C($primaryColor) W(51%)\"><span>EPS (TTM)</span></td>, <td class=\"C($primaryColor) W(51%)\"><span>Earnings Date</span></td>, <td class=\"C($primaryColor) W(51%)\"><span>Forward Dividend &amp; Yield</span></td>, <td class=\"C($primaryColor) W(51%)\"><span>Ex-Dividend Date</span></td>, <td class=\"C($primaryColor) W(51%)\"><span>1y Target Est</span></td>]\n"
          ]
        }
      ]
    },
    {
      "cell_type": "code",
      "source": [
        "finalName=\"1y Target Est\"\n",
        "trs= soup.find_all(\"tr\")"
      ],
      "metadata": {
        "id": "lf03iH3PaLPA"
      },
      "execution_count": 10,
      "outputs": []
    },
    {
      "cell_type": "code",
      "source": [
        "from pprint import pprint"
      ],
      "metadata": {
        "id": "OboliPVWax-Y"
      },
      "execution_count": 14,
      "outputs": []
    },
    {
      "cell_type": "code",
      "source": [
        "pprint(trs[0])"
      ],
      "metadata": {
        "colab": {
          "base_uri": "https://localhost:8080/"
        },
        "id": "FU2HTKeeaoC2",
        "outputId": "fc5d84e7-2913-456d-8dba-4d3979a5f650"
      },
      "execution_count": 18,
      "outputs": [
        {
          "output_type": "stream",
          "name": "stdout",
          "text": [
            "<tr class=\"Bxz(bb) Bdbw(1px) Bdbs(s) Bdc($seperatorColor) H(36px) \"><td class=\"C($primaryColor) W(51%)\"><span>Previous Close</span></td><td class=\"Ta(end) Fw(600) Lh(14px)\" data-test=\"PREV_CLOSE-value\">172.10</td></tr>\n"
          ]
        }
      ]
    },
    {
      "cell_type": "code",
      "source": [
        "print(trs[0].find(\"td\",attrs={\"data-test\":\"PREV_CLOSE-value\"}))"
      ],
      "metadata": {
        "colab": {
          "base_uri": "https://localhost:8080/"
        },
        "id": "u5upu2Bqatou",
        "outputId": "41e0b53e-840e-4de3-d478-2007d3c5ddf4"
      },
      "execution_count": 22,
      "outputs": [
        {
          "output_type": "stream",
          "name": "stdout",
          "text": [
            "<td class=\"Ta(end) Fw(600) Lh(14px)\" data-test=\"PREV_CLOSE-value\">172.10</td>\n"
          ]
        }
      ]
    },
    {
      "cell_type": "code",
      "source": [
        "print(trs[0].find(\"td\",attrs={\"data-test\":\"PREV_CLOSE-value\"}).text)"
      ],
      "metadata": {
        "colab": {
          "base_uri": "https://localhost:8080/"
        },
        "id": "aVOduh89cYqE",
        "outputId": "1ec14ce8-bdc5-4964-9a33-3507ec32c072"
      },
      "execution_count": 24,
      "outputs": [
        {
          "output_type": "stream",
          "name": "stdout",
          "text": [
            "172.10\n"
          ]
        }
      ]
    },
    {
      "cell_type": "code",
      "source": [
        "print(trs[0].contents)"
      ],
      "metadata": {
        "colab": {
          "base_uri": "https://localhost:8080/"
        },
        "id": "wFdqy7fBd6gf",
        "outputId": "84505af7-56ba-4b37-f0c7-4eb23315ad8f"
      },
      "execution_count": 25,
      "outputs": [
        {
          "output_type": "stream",
          "name": "stdout",
          "text": [
            "[<td class=\"C($primaryColor) W(51%)\"><span>Previous Close</span></td>, <td class=\"Ta(end) Fw(600) Lh(14px)\" data-test=\"PREV_CLOSE-value\">172.10</td>]\n"
          ]
        }
      ]
    },
    {
      "cell_type": "code",
      "source": [
        "print(trs[0].contents[0].text)"
      ],
      "metadata": {
        "colab": {
          "base_uri": "https://localhost:8080/"
        },
        "id": "Rj5ao9i5eJw3",
        "outputId": "ad3911d8-29db-4420-aac6-9d52ad115458"
      },
      "execution_count": 26,
      "outputs": [
        {
          "output_type": "stream",
          "name": "stdout",
          "text": [
            "Previous Close\n"
          ]
        }
      ]
    },
    {
      "cell_type": "code",
      "source": [
        "print(trs[0].contents[1].text)"
      ],
      "metadata": {
        "colab": {
          "base_uri": "https://localhost:8080/"
        },
        "id": "_jFuc2XveRNY",
        "outputId": "d0973e13-4794-4f36-e5c9-bd68d610ad26"
      },
      "execution_count": 27,
      "outputs": [
        {
          "output_type": "stream",
          "name": "stdout",
          "text": [
            "172.10\n"
          ]
        }
      ]
    },
    {
      "cell_type": "code",
      "source": [
        "names=[]\n",
        "values=[]\n",
        "nameValue={}\n",
        "for i in range(len(trs)):\n",
        "    for j in range(len(trs[i])):\n",
        "        if j==0: #name\n",
        "            name=trs[i].contents[j].text\n",
        "            names.append(name)\n",
        "\n",
        "        if j==1: # value\n",
        "            value=trs[i].contents[j].text\n",
        "            values.append(value)\n",
        "    nameValue[name]=value\n",
        "    if name==finalName: # break the loop and doesnot move towards further tr tags\n",
        "        break\n",
        "\n",
        "print(names)\n",
        "print(values)\n",
        "print(nameValue)\n",
        "\n"
      ],
      "metadata": {
        "colab": {
          "base_uri": "https://localhost:8080/"
        },
        "id": "cA97Yz4EeWS3",
        "outputId": "0d08ccff-d6a1-4a91-e1f1-9bf4f5893b03"
      },
      "execution_count": 30,
      "outputs": [
        {
          "output_type": "stream",
          "name": "stdout",
          "text": [
            "['Previous Close', 'Open', 'Bid', 'Ask', \"Day's Range\", '52 Week Range', 'Volume', 'Avg. Volume', 'Market Cap', 'Beta (5Y Monthly)', 'PE Ratio (TTM)', 'EPS (TTM)', 'Earnings Date', 'Forward Dividend & Yield', 'Ex-Dividend Date', '1y Target Est', 'Symbol', 'AMZNAmazon.com, Inc.', 'TSLATesla, Inc.', 'METAMeta Platforms, Inc.', 'GOOGAlphabet Inc.', 'NFLXNetflix, Inc.', 'Symbol', 'SONOSonos, Inc.', 'SONYSony Group Corporation', 'VUZIVuzix Corporation', 'VZIOVIZIO Holding Corp.', 'GPROGoPro, Inc.', '', '', '', '', '', '']\n",
            "['172.10', '171.52', '172.80 x 1100', '172.81 x 1100', '171.35 - 173.30', '129.04 - 182.94', '28,178,511', '80,404,119', '2.783T', '1.23', '28.62', '6.05', 'Oct 26, 2022 - Oct 31, 2022', '0.92 (0.53%)', 'Aug 05, 2022', '182.51', 'Last Price', '142.62', '927.93', '180.74', '122.98', '250.55', 'Last Price', '17.14', '87.13', '10.02', '12.66', '6.81', 'Maintains', 'Maintains', 'Maintains', 'Maintains', 'Maintains', 'Maintains']\n",
            "{'Previous Close': '172.10', 'Open': '171.52', 'Bid': '172.80 x 1100', 'Ask': '172.81 x 1100', \"Day's Range\": '171.35 - 173.30', '52 Week Range': '129.04 - 182.94', 'Volume': '28,178,511', 'Avg. Volume': '80,404,119', 'Market Cap': '2.783T', 'Beta (5Y Monthly)': '1.23', 'PE Ratio (TTM)': '28.62', 'EPS (TTM)': '6.05', 'Earnings Date': 'Oct 26, 2022 - Oct 31, 2022', 'Forward Dividend & Yield': '0.92 (0.53%)', 'Ex-Dividend Date': 'Aug 05, 2022', '1y Target Est': '182.51', 'Symbol': 'Last Price', 'AMZNAmazon.com, Inc.': '142.62', 'TSLATesla, Inc.': '927.93', 'METAMeta Platforms, Inc.': '180.74', 'GOOGAlphabet Inc.': '122.98', 'NFLXNetflix, Inc.': '250.55', 'SONOSonos, Inc.': '17.14', 'SONYSony Group Corporation': '87.13', 'VUZIVuzix Corporation': '10.02', 'VZIOVIZIO Holding Corp.': '12.66', 'GPROGoPro, Inc.': '6.81', '': 'Maintains'}\n"
          ]
        }
      ]
    },
    {
      "cell_type": "code",
      "source": [
        "import requests\n",
        "from bs4 import BeautifulSoup\n",
        "try:\n",
        "    url=\"https://finance.yahoo.com/quote/AAPL?p=AAPL\"\n",
        "    response=requests.get(url)\n",
        "    t=response.text\n",
        "    soup=BeautifulSoup(t,features=\"html.parser\")\n",
        "    finalName=\"1y Target Est\"\n",
        "    trs= soup.find_all(\"tr\")\n",
        "    names=[]\n",
        "    values=[]\n",
        "    nameValue={}\n",
        "    for i in range(len(trs)):\n",
        "        for j in range(len(trs[i])):\n",
        "            if j==0: #name\n",
        "                try:\n",
        "                    name=trs[i].contents[j].text\n",
        "                    names.append(name)\n",
        "                except:\n",
        "                    continue\n",
        "            if j==1: # value\n",
        "                try:\n",
        "                    value=trs[i].contents[j].text\n",
        "                    values.append(value)\n",
        "                except:\n",
        "                    continue\n",
        "        nameValue[name]=value\n",
        "        if name==finalName: # break the loop and doesnot move towards further tr tags\n",
        "            break\n",
        "\n",
        "    # print(names)\n",
        "    # print(values)\n",
        "    # print(nameValue)\n",
        "    for name,value in zip(names,values):\n",
        "        print(f\"{name} : {value}\")\n",
        "except:\n",
        "    pass\n"
      ],
      "metadata": {
        "colab": {
          "base_uri": "https://localhost:8080/"
        },
        "id": "FOW-gj-BgpI8",
        "outputId": "02f5b1f4-10db-4fc5-e266-f6f9430ed91d"
      },
      "execution_count": 32,
      "outputs": [
        {
          "output_type": "stream",
          "name": "stdout",
          "text": [
            "Previous Close : 172.10\n",
            "Open : 171.52\n",
            "Bid : 172.90 x 800\n",
            "Ask : 172.91 x 800\n",
            "Day's Range : 171.35 - 173.30\n",
            "52 Week Range : 129.04 - 182.94\n",
            "Volume : 35,860,433\n",
            "Avg. Volume : 80,404,119\n",
            "Market Cap : 2.779T\n",
            "Beta (5Y Monthly) : 1.23\n",
            "PE Ratio (TTM) : 28.58\n",
            "EPS (TTM) : 6.05\n",
            "Earnings Date : Oct 26, 2022 - Oct 31, 2022\n",
            "Forward Dividend & Yield : 0.92 (0.53%)\n",
            "Ex-Dividend Date : Aug 05, 2022\n",
            "1y Target Est : 182.51\n"
          ]
        }
      ]
    },
    {
      "cell_type": "code",
      "source": [
        ""
      ],
      "metadata": {
        "id": "21yDrZxwypjH"
      },
      "execution_count": null,
      "outputs": []
    }
  ]
}