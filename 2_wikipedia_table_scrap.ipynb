{
  "nbformat": 4,
  "nbformat_minor": 0,
  "metadata": {
    "colab": {
      "name": "2_wikipedia_table_scrap.ipynb",
      "provenance": [],
      "authorship_tag": "ABX9TyOcUBDxYUrWYFFhWFQjE6pq",
      "include_colab_link": true
    },
    "kernelspec": {
      "name": "python3",
      "display_name": "Python 3"
    },
    "language_info": {
      "name": "python"
    }
  },
  "cells": [
    {
      "cell_type": "markdown",
      "metadata": {
        "id": "view-in-github",
        "colab_type": "text"
      },
      "source": [
        "<a href=\"https://colab.research.google.com/github/shoaibakhtar1010/WebScraping/blob/main/2_wikipedia_table_scrap.ipynb\" target=\"_parent\"><img src=\"https://colab.research.google.com/assets/colab-badge.svg\" alt=\"Open In Colab\"/></a>"
      ]
    },
    {
      "cell_type": "markdown",
      "source": [
        "# Wikipedia table scrap"
      ],
      "metadata": {
        "id": "Y41vD9b1GnvC"
      }
    },
    {
      "cell_type": "code",
      "source": [
        "import requests\n",
        "from bs4 import BeautifulSoup"
      ],
      "metadata": {
        "id": "PVKYeq3MGsWT"
      },
      "execution_count": 1,
      "outputs": []
    },
    {
      "cell_type": "code",
      "source": [
        "url=\"https://en.wikipedia.org/wiki/List_of_S%26P_500_companies\""
      ],
      "metadata": {
        "id": "dAbv8Y5YHKrE"
      },
      "execution_count": 4,
      "outputs": []
    },
    {
      "cell_type": "code",
      "source": [
        "r=requests.get(url)"
      ],
      "metadata": {
        "id": "3Zus9XvoHkEi"
      },
      "execution_count": 5,
      "outputs": []
    },
    {
      "cell_type": "code",
      "source": [
        "text=r.text"
      ],
      "metadata": {
        "id": "_fWwJPVeHtP5"
      },
      "execution_count": 6,
      "outputs": []
    },
    {
      "cell_type": "code",
      "source": [
        "soup=BeautifulSoup(text,features=\"html.parser\")"
      ],
      "metadata": {
        "id": "KTfveuWFIG4h"
      },
      "execution_count": 8,
      "outputs": []
    },
    {
      "cell_type": "code",
      "source": [
        "tbody=soup.find_all(\"tbody\")"
      ],
      "metadata": {
        "id": "ajSh_O_2IPof"
      },
      "execution_count": 11,
      "outputs": []
    },
    {
      "cell_type": "code",
      "source": [
        "print(tbody[0].contents[0])"
      ],
      "metadata": {
        "colab": {
          "base_uri": "https://localhost:8080/"
        },
        "id": "UnnPeL9dLssj",
        "outputId": "ee4f6462-bbc7-4206-e45e-ff9eb06d164b"
      },
      "execution_count": 14,
      "outputs": [
        {
          "output_type": "stream",
          "name": "stdout",
          "text": [
            "<tr>\n",
            "<th><a href=\"/wiki/Ticker_symbol\" title=\"Ticker symbol\">Symbol</a>\n",
            "</th>\n",
            "<th>Security</th>\n",
            "<th><a href=\"/wiki/SEC_filing\" title=\"SEC filing\">SEC filings</a></th>\n",
            "<th><a href=\"/wiki/Global_Industry_Classification_Standard\" title=\"Global Industry Classification Standard\">GICS</a> Sector</th>\n",
            "<th>GICS Sub-Industry</th>\n",
            "<th>Headquarters Location</th>\n",
            "<th>Date first added</th>\n",
            "<th><a href=\"/wiki/Central_Index_Key\" title=\"Central Index Key\">CIK</a></th>\n",
            "<th>Founded\n",
            "</th></tr>\n"
          ]
        }
      ]
    },
    {
      "cell_type": "code",
      "source": [
        "print(tbody[0].contents[2])"
      ],
      "metadata": {
        "colab": {
          "base_uri": "https://localhost:8080/"
        },
        "id": "56OxZuMKLyyQ",
        "outputId": "bf43267c-1b45-4ca1-819d-b1b1b1c8b29c"
      },
      "execution_count": 16,
      "outputs": [
        {
          "output_type": "stream",
          "name": "stdout",
          "text": [
            "<tr>\n",
            "<td><a class=\"external text\" href=\"https://www.nyse.com/quote/XNYS:MMM\" rel=\"nofollow\">MMM</a>\n",
            "</td>\n",
            "<td><a href=\"/wiki/3M\" title=\"3M\">3M</a></td>\n",
            "<td><a class=\"external text\" href=\"https://www.sec.gov/edgar/browse/?CIK=66740\" rel=\"nofollow\">reports</a></td>\n",
            "<td>Industrials</td>\n",
            "<td>Industrial Conglomerates</td>\n",
            "<td><a href=\"/wiki/Saint_Paul,_Minnesota\" title=\"Saint Paul, Minnesota\">Saint Paul, Minnesota</a></td>\n",
            "<td>1976-08-09</td>\n",
            "<td>0000066740</td>\n",
            "<td>1902\n",
            "</td></tr>\n"
          ]
        }
      ]
    },
    {
      "cell_type": "code",
      "source": [
        "print(tbody[0].contents[3])"
      ],
      "metadata": {
        "colab": {
          "base_uri": "https://localhost:8080/"
        },
        "id": "AUk_AYerMt7o",
        "outputId": "336b87b5-7392-4316-8064-907cc96b2041"
      },
      "execution_count": 17,
      "outputs": [
        {
          "output_type": "stream",
          "name": "stdout",
          "text": [
            "\n",
            "\n"
          ]
        }
      ]
    },
    {
      "cell_type": "code",
      "source": [
        "print(tbody[0].contents[4])"
      ],
      "metadata": {
        "colab": {
          "base_uri": "https://localhost:8080/"
        },
        "id": "EAzqDMTVM-9u",
        "outputId": "a6715c5a-de76-4db8-eb51-dc8488b11222"
      },
      "execution_count": 18,
      "outputs": [
        {
          "output_type": "stream",
          "name": "stdout",
          "text": [
            "<tr>\n",
            "<td><a class=\"external text\" href=\"https://www.nyse.com/quote/XNYS:AOS\" rel=\"nofollow\">AOS</a>\n",
            "</td>\n",
            "<td><a href=\"/wiki/A._O._Smith\" title=\"A. O. Smith\">A. O. Smith</a></td>\n",
            "<td><a class=\"external text\" href=\"https://www.sec.gov/edgar/browse/?CIK=91142\" rel=\"nofollow\">reports</a></td>\n",
            "<td>Industrials</td>\n",
            "<td>Building Products</td>\n",
            "<td><a class=\"mw-redirect\" href=\"/wiki/Milwaukee,_Wisconsin\" title=\"Milwaukee, Wisconsin\">Milwaukee, Wisconsin</a></td>\n",
            "<td>2017-07-26</td>\n",
            "<td>0000091142\n",
            "</td>\n",
            "<td>1916\n",
            "</td></tr>\n"
          ]
        }
      ]
    },
    {
      "cell_type": "code",
      "source": [
        "print(tbody[0].contents[5])"
      ],
      "metadata": {
        "colab": {
          "base_uri": "https://localhost:8080/"
        },
        "id": "tvDCO1-nNCme",
        "outputId": "f47da68f-a742-47cd-f16f-e6632e220cae"
      },
      "execution_count": 19,
      "outputs": [
        {
          "output_type": "stream",
          "name": "stdout",
          "text": [
            "\n",
            "\n"
          ]
        }
      ]
    },
    {
      "cell_type": "code",
      "source": [
        "print(tbody[0].contents[6])"
      ],
      "metadata": {
        "colab": {
          "base_uri": "https://localhost:8080/"
        },
        "id": "hPbTvpvyNeJ1",
        "outputId": "027b6099-a122-4335-8435-13458835de85"
      },
      "execution_count": 20,
      "outputs": [
        {
          "output_type": "stream",
          "name": "stdout",
          "text": [
            "<tr>\n",
            "<td><a class=\"external text\" href=\"https://www.nyse.com/quote/XNYS:ABT\" rel=\"nofollow\">ABT</a>\n",
            "</td>\n",
            "<td><a href=\"/wiki/Abbott_Laboratories\" title=\"Abbott Laboratories\">Abbott</a></td>\n",
            "<td><a class=\"external text\" href=\"https://www.sec.gov/edgar/browse/?CIK=1800\" rel=\"nofollow\">reports</a></td>\n",
            "<td>Health Care</td>\n",
            "<td>Health Care Equipment</td>\n",
            "<td><a href=\"/wiki/North_Chicago,_Illinois\" title=\"North Chicago, Illinois\">North Chicago, Illinois</a></td>\n",
            "<td>1964-03-31</td>\n",
            "<td>0000001800</td>\n",
            "<td>1888\n",
            "</td></tr>\n"
          ]
        }
      ]
    },
    {
      "cell_type": "markdown",
      "source": [
        "It looks like every odd contents value is empty and even contents first td has our desired symbol value for a company"
      ],
      "metadata": {
        "id": "CXtNhGckNucf"
      }
    },
    {
      "cell_type": "code",
      "source": [
        "print(tbody[0].contents[2].contents[1])"
      ],
      "metadata": {
        "colab": {
          "base_uri": "https://localhost:8080/"
        },
        "id": "NUOy5Q4aPbpn",
        "outputId": "d2c2a551-6417-4d2f-bf51-384d7c54f338"
      },
      "execution_count": 23,
      "outputs": [
        {
          "output_type": "stream",
          "name": "stdout",
          "text": [
            "<td><a class=\"external text\" href=\"https://www.nyse.com/quote/XNYS:MMM\" rel=\"nofollow\">MMM</a>\n",
            "</td>\n"
          ]
        }
      ]
    },
    {
      "cell_type": "code",
      "source": [
        "print(tbody[0].contents[2].contents[1].text)"
      ],
      "metadata": {
        "colab": {
          "base_uri": "https://localhost:8080/"
        },
        "id": "TD9gnHZmP53h",
        "outputId": "d6d86c1f-2977-4044-e37a-c32250e567a0"
      },
      "execution_count": 25,
      "outputs": [
        {
          "output_type": "stream",
          "name": "stdout",
          "text": [
            "MMM\n",
            "\n"
          ]
        }
      ]
    },
    {
      "cell_type": "code",
      "source": [
        "endsymbol=\"ZTS\"\n",
        "symbols=[]\n",
        "for i in range(2,len(tbody[0].contents),2):\n",
        "    symbol= tbody[0].contents[i].contents[1].text.strip(\"\\n\")\n",
        "    symbols.append(symbol)\n",
        "    if symbol==endsymbol:\n",
        "        break\n",
        "for symbol in symbols:\n",
        "    print(symbol)\n",
        "len(symbols)"
      ],
      "metadata": {
        "colab": {
          "base_uri": "https://localhost:8080/"
        },
        "id": "yZPgVuFhNgeV",
        "outputId": "edba3854-8399-4a6a-8909-19ee5be67d45"
      },
      "execution_count": 32,
      "outputs": [
        {
          "output_type": "stream",
          "name": "stdout",
          "text": [
            "MMM\n",
            "AOS\n",
            "ABT\n",
            "ABBV\n",
            "ABMD\n",
            "ACN\n",
            "ATVI\n",
            "ADM\n",
            "ADBE\n",
            "ADP\n",
            "AAP\n",
            "AES\n",
            "AFL\n",
            "A\n",
            "APD\n",
            "AKAM\n",
            "ALK\n",
            "ALB\n",
            "ARE\n",
            "ALGN\n",
            "ALLE\n",
            "LNT\n",
            "ALL\n",
            "GOOGL\n",
            "GOOG\n",
            "MO\n",
            "AMZN\n",
            "AMCR\n",
            "AMD\n",
            "AEE\n",
            "AAL\n",
            "AEP\n",
            "AXP\n",
            "AIG\n",
            "AMT\n",
            "AWK\n",
            "AMP\n",
            "ABC\n",
            "AME\n",
            "AMGN\n",
            "APH\n",
            "ADI\n",
            "ANSS\n",
            "AON\n",
            "APA\n",
            "AAPL\n",
            "AMAT\n",
            "APTV\n",
            "ANET\n",
            "AJG\n",
            "AIZ\n",
            "T\n",
            "ATO\n",
            "ADSK\n",
            "AZO\n",
            "AVB\n",
            "AVY\n",
            "BKR\n",
            "BALL\n",
            "BAC\n",
            "BBWI\n",
            "BAX\n",
            "BDX\n",
            "WRB\n",
            "BRK.B\n",
            "BBY\n",
            "BIO\n",
            "TECH\n",
            "BIIB\n",
            "BLK\n",
            "BK\n",
            "BA\n",
            "BKNG\n",
            "BWA\n",
            "BXP\n",
            "BSX\n",
            "BMY\n",
            "AVGO\n",
            "BR\n",
            "BRO\n",
            "BF.B\n",
            "CHRW\n",
            "CDNS\n",
            "CZR\n",
            "CPT\n",
            "CPB\n",
            "COF\n",
            "CAH\n",
            "KMX\n",
            "CCL\n",
            "CARR\n",
            "CTLT\n",
            "CAT\n",
            "CBOE\n",
            "CBRE\n",
            "CDW\n",
            "CE\n",
            "CNC\n",
            "CNP\n",
            "CDAY\n",
            "CF\n",
            "CRL\n",
            "SCHW\n",
            "CHTR\n",
            "CVX\n",
            "CMG\n",
            "CB\n",
            "CHD\n",
            "CI\n",
            "CINF\n",
            "CTAS\n",
            "CSCO\n",
            "C\n",
            "CFG\n",
            "CTXS\n",
            "CLX\n",
            "CME\n",
            "CMS\n",
            "KO\n",
            "CTSH\n",
            "CL\n",
            "CMCSA\n",
            "CMA\n",
            "CAG\n",
            "COP\n",
            "ED\n",
            "STZ\n",
            "CEG\n",
            "COO\n",
            "CPRT\n",
            "GLW\n",
            "CTVA\n",
            "COST\n",
            "CTRA\n",
            "CCI\n",
            "CSX\n",
            "CMI\n",
            "CVS\n",
            "DHI\n",
            "DHR\n",
            "DRI\n",
            "DVA\n",
            "DE\n",
            "DAL\n",
            "XRAY\n",
            "DVN\n",
            "DXCM\n",
            "FANG\n",
            "DLR\n",
            "DFS\n",
            "DISH\n",
            "DIS\n",
            "DG\n",
            "DLTR\n",
            "D\n",
            "DPZ\n",
            "DOV\n",
            "DOW\n",
            "DTE\n",
            "DUK\n",
            "DRE\n",
            "DD\n",
            "DXC\n",
            "EMN\n",
            "ETN\n",
            "EBAY\n",
            "ECL\n",
            "EIX\n",
            "EW\n",
            "EA\n",
            "ELV\n",
            "LLY\n",
            "EMR\n",
            "ENPH\n",
            "ETR\n",
            "EOG\n",
            "EPAM\n",
            "EFX\n",
            "EQIX\n",
            "EQR\n",
            "ESS\n",
            "EL\n",
            "ETSY\n",
            "RE\n",
            "EVRG\n",
            "ES\n",
            "EXC\n",
            "EXPE\n",
            "EXPD\n",
            "EXR\n",
            "XOM\n",
            "FFIV\n",
            "FDS\n",
            "FAST\n",
            "FRT\n",
            "FDX\n",
            "FITB\n",
            "FRC\n",
            "FE\n",
            "FIS\n",
            "FISV\n",
            "FLT\n",
            "FMC\n",
            "F\n",
            "FTNT\n",
            "FTV\n",
            "FBHS\n",
            "FOXA\n",
            "FOX\n",
            "BEN\n",
            "FCX\n",
            "GRMN\n",
            "IT\n",
            "GNRC\n",
            "GD\n",
            "GE\n",
            "GIS\n",
            "GM\n",
            "GPC\n",
            "GILD\n",
            "GL\n",
            "GPN\n",
            "GS\n",
            "HAL\n",
            "HIG\n",
            "HAS\n",
            "HCA\n",
            "PEAK\n",
            "HSIC\n",
            "HSY\n",
            "HES\n",
            "HPE\n",
            "HLT\n",
            "HOLX\n",
            "HD\n",
            "HON\n",
            "HRL\n",
            "HST\n",
            "HWM\n",
            "HPQ\n",
            "HUM\n",
            "HBAN\n",
            "HII\n",
            "IBM\n",
            "IEX\n",
            "IDXX\n",
            "ITW\n",
            "ILMN\n",
            "INCY\n",
            "IR\n",
            "INTC\n",
            "ICE\n",
            "IP\n",
            "IPG\n",
            "IFF\n",
            "INTU\n",
            "ISRG\n",
            "IVZ\n",
            "IQV\n",
            "IRM\n",
            "JBHT\n",
            "JKHY\n",
            "J\n",
            "JNJ\n",
            "JCI\n",
            "JPM\n",
            "JNPR\n",
            "K\n",
            "KDP\n",
            "KEY\n",
            "KEYS\n",
            "KMB\n",
            "KIM\n",
            "KMI\n",
            "KLAC\n",
            "KHC\n",
            "KR\n",
            "LHX\n",
            "LH\n",
            "LRCX\n",
            "LW\n",
            "LVS\n",
            "LDOS\n",
            "LEN\n",
            "LNC\n",
            "LIN\n",
            "LYV\n",
            "LKQ\n",
            "LMT\n",
            "L\n",
            "LOW\n",
            "LUMN\n",
            "LYB\n",
            "MTB\n",
            "MRO\n",
            "MPC\n",
            "MKTX\n",
            "MAR\n",
            "MMC\n",
            "MLM\n",
            "MAS\n",
            "MA\n",
            "MTCH\n",
            "MKC\n",
            "MCD\n",
            "MCK\n",
            "MDT\n",
            "MRK\n",
            "META\n",
            "MET\n",
            "MTD\n",
            "MGM\n",
            "MCHP\n",
            "MU\n",
            "MSFT\n",
            "MAA\n",
            "MRNA\n",
            "MHK\n",
            "MOH\n",
            "TAP\n",
            "MDLZ\n",
            "MPWR\n",
            "MNST\n",
            "MCO\n",
            "MS\n",
            "MOS\n",
            "MSI\n",
            "MSCI\n",
            "NDAQ\n",
            "NTAP\n",
            "NFLX\n",
            "NWL\n",
            "NEM\n",
            "NWSA\n",
            "NWS\n",
            "NEE\n",
            "NLSN\n",
            "NKE\n",
            "NI\n",
            "NDSN\n",
            "NSC\n",
            "NTRS\n",
            "NOC\n",
            "NLOK\n",
            "NCLH\n",
            "NRG\n",
            "NUE\n",
            "NVDA\n",
            "NVR\n",
            "NXPI\n",
            "ORLY\n",
            "OXY\n",
            "ODFL\n",
            "OMC\n",
            "ON\n",
            "OKE\n",
            "ORCL\n",
            "OGN\n",
            "OTIS\n",
            "PCAR\n",
            "PKG\n",
            "PARA\n",
            "PH\n",
            "PAYX\n",
            "PAYC\n",
            "PYPL\n",
            "PENN\n",
            "PNR\n",
            "PEP\n",
            "PKI\n",
            "PFE\n",
            "PM\n",
            "PSX\n",
            "PNW\n",
            "PXD\n",
            "PNC\n",
            "POOL\n",
            "PPG\n",
            "PPL\n",
            "PFG\n",
            "PG\n",
            "PGR\n",
            "PLD\n",
            "PRU\n",
            "PEG\n",
            "PTC\n",
            "PSA\n",
            "PHM\n",
            "PVH\n",
            "QRVO\n",
            "PWR\n",
            "QCOM\n",
            "DGX\n",
            "RL\n",
            "RJF\n",
            "RTX\n",
            "O\n",
            "REG\n",
            "REGN\n",
            "RF\n",
            "RSG\n",
            "RMD\n",
            "RHI\n",
            "ROK\n",
            "ROL\n",
            "ROP\n",
            "ROST\n",
            "RCL\n",
            "SPGI\n",
            "CRM\n",
            "SBAC\n",
            "SLB\n",
            "STX\n",
            "SEE\n",
            "SRE\n",
            "NOW\n",
            "SHW\n",
            "SBNY\n",
            "SPG\n",
            "SWKS\n",
            "SJM\n",
            "SNA\n",
            "SEDG\n",
            "SO\n",
            "LUV\n",
            "SWK\n",
            "SBUX\n",
            "STT\n",
            "STE\n",
            "SYK\n",
            "SIVB\n",
            "SYF\n",
            "SNPS\n",
            "SYY\n",
            "TMUS\n",
            "TROW\n",
            "TTWO\n",
            "TPR\n",
            "TGT\n",
            "TEL\n",
            "TDY\n",
            "TFX\n",
            "TER\n",
            "TSLA\n",
            "TXN\n",
            "TXT\n",
            "TMO\n",
            "TJX\n",
            "TSCO\n",
            "TT\n",
            "TDG\n",
            "TRV\n",
            "TRMB\n",
            "TFC\n",
            "TWTR\n",
            "TYL\n",
            "TSN\n",
            "USB\n",
            "UDR\n",
            "ULTA\n",
            "UNP\n",
            "UAL\n",
            "UPS\n",
            "URI\n",
            "UNH\n",
            "UHS\n",
            "VLO\n",
            "VTR\n",
            "VRSN\n",
            "VRSK\n",
            "VZ\n",
            "VRTX\n",
            "VFC\n",
            "VTRS\n",
            "VICI\n",
            "V\n",
            "VNO\n",
            "VMC\n",
            "WAB\n",
            "WBA\n",
            "WMT\n",
            "WBD\n",
            "WM\n",
            "WAT\n",
            "WEC\n",
            "WFC\n",
            "WELL\n",
            "WST\n",
            "WDC\n",
            "WRK\n",
            "WY\n",
            "WHR\n",
            "WMB\n",
            "WTW\n",
            "GWW\n",
            "WYNN\n",
            "XEL\n",
            "XYL\n",
            "YUM\n",
            "ZBRA\n",
            "ZBH\n",
            "ZION\n",
            "ZTS\n"
          ]
        },
        {
          "output_type": "execute_result",
          "data": {
            "text/plain": [
              "503"
            ]
          },
          "metadata": {},
          "execution_count": 32
        }
      ]
    },
    {
      "cell_type": "code",
      "source": [
        ""
      ],
      "metadata": {
        "id": "tN6m0re5QdrQ"
      },
      "execution_count": null,
      "outputs": []
    }
  ]
}